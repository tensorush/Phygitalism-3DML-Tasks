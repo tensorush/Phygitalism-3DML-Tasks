{
  "nbformat": 4,
  "nbformat_minor": 0,
  "metadata": {
    "kernelspec": {
      "name": "python3",
      "display_name": "Python 3"
    },
    "colab": {
      "name": "Task 1.ipynb",
      "provenance": [],
      "include_colab_link": true
    },
    "language_info": {
      "name": "python"
    }
  },
  "cells": [
    {
      "cell_type": "markdown",
      "metadata": {
        "id": "view-in-github",
        "colab_type": "text"
      },
      "source": [
        "<a href=\"https://colab.research.google.com/github/tensorush/Phygitalism-3DML-Tasks/blob/master/Tasks/Task%201.ipynb\" target=\"_parent\"><img src=\"https://colab.research.google.com/assets/colab-badge.svg\" alt=\"Open In Colab\"/></a>"
      ]
    },
    {
      "cell_type": "markdown",
      "metadata": {
        "id": "_RNJhOG4rFxO"
      },
      "source": [
        "# Описание задачи"
      ]
    },
    {
      "cell_type": "markdown",
      "metadata": {
        "id": "DnUDPwuWrFxU"
      },
      "source": [
        "В некоторой архитектуре нейронной сети зависимость выхода $y \\in \\mathbb{R}$ от входа $(x_1, x_2) \\in \\mathbb{R}^2$ можно записать следующим образом:\n",
        "$$\n",
        "\\begin{align*}\n",
        "&f_1(x_1, x_2) = x_1 + x_2,\\\\\n",
        "&f_2(x_1, x_2) = x_1 \\cdot x_2,\\\\\n",
        "&g_1(x_1, x_2) = \\tan( f_1(x_1, x_2) + f_2(x_1, x_2) + 100),\\\\\n",
        "&g_2(x_1, x_2) = f_1(x_1, x_2) \\cdot f_2(x_1, x_2),\\\\\n",
        "&y(x_1, x_2) = p(g_1(x_1,x_2), g_2(x_1, x_2)),\n",
        "\\end{align*}\n",
        "$$\n",
        "где $p(g_1, g_2)-$ некоторая неизвестная функция.\n",
        "\n",
        "С помощью [механизма автоматического дифференцирования в PyTorch](https://pytorch.org/tutorials/beginner/blitz/autograd_tutorial.html#) необходимо вычислить значения частных производных в разных точках:\n",
        "$$\n",
        "\\frac{\\partial y}{\\partial x_1}, \\frac{\\partial y}{\\partial x_2}, \n",
        "$$\n",
        "\n",
        "Для этого в файле `dev.json` приведены значения $\\frac{\\partial p}{\\partial g_1}, \\frac{\\partial p}{\\partial g_2}$ (обозначены как `dpdg1, dpdg2`), вычисленные при известных значениях входа. \n",
        "\n",
        "Нужно:\n",
        "\n",
        "1. Загрузить данные из файла `dev.json`\n",
        "2. Посчитать значения нужных производных для каждой точки.\n",
        "3. Сохранить результат в формате CSV. Файл должен иметь следующую структуру:\n",
        "```\n",
        "id,dx1,dx2\n",
        "....\n",
        "```\n",
        "`id` - это значение `id` из `dev.json`, `dx1, dx2`- значение производных, вычисленные в точке `id` из `dev.json.`\n",
        "\n",
        "Ответ проверяется с помощью функции [math.isclose](https://docs.python.org/3/library/math.html#math.isclose) с точностью до `1e-8`. "
      ]
    },
    {
      "cell_type": "markdown",
      "metadata": {
        "id": "EbdIsuj58VDa"
      },
      "source": [
        "# Решение задачи"
      ]
    },
    {
      "cell_type": "markdown",
      "metadata": {
        "id": "blKpFIiY5ogn"
      },
      "source": [
        "Импортируем `csv`, `json`, `math` и `torch` библиотеки."
      ]
    },
    {
      "cell_type": "code",
      "metadata": {
        "id": "-lQ0Ns9S7mEE"
      },
      "source": [
        "import csv\n",
        "import json\n",
        "import math\n",
        "import torch"
      ],
      "execution_count": null,
      "outputs": []
    },
    {
      "cell_type": "markdown",
      "metadata": {
        "id": "bpT6Sqd5J0Yo"
      },
      "source": [
        "Скачаем и загрузим данные."
      ]
    },
    {
      "cell_type": "code",
      "metadata": {
        "id": "ORUDzQ3VJ4yH"
      },
      "source": [
        "!wget --quiet https://raw.githubusercontent.com/phygitalism/test-tasks-3dml/master/Task1/dev.json\n",
        "\n",
        "with open('dev.json') as fin:\n",
        "    data = json.load(fin)"
      ],
      "execution_count": null,
      "outputs": []
    },
    {
      "cell_type": "markdown",
      "metadata": {
        "id": "3e68WVi-8Rw8"
      },
      "source": [
        "Рассчитаем и сохраним результат для каждой точки в файл `results.csv`."
      ]
    },
    {
      "cell_type": "code",
      "metadata": {
        "id": "rMJwEDeUsACw"
      },
      "source": [
        "with open('results.csv', 'a') as results:\n",
        "    # Prepare to write the results\n",
        "    writer = csv.writer(results)\n",
        "\n",
        "    # Iterate over datapoints\n",
        "    for point in data:\n",
        "        # Read x1 and x2 into a single tensor x\n",
        "        x = torch.DoubleTensor([point['x1'], point['x2']], requires_grad=True)\n",
        "\n",
        "        # Read dpdg1 and dpdg2\n",
        "        dpdg1 = point['dpdg1']\n",
        "        dpdg2 = point['dpdg2']\n",
        "\n",
        "        # Evaluate g1 and g2 at x\n",
        "        f1 = x[0] + x[1]\n",
        "        f2 = x[0] * x[1]\n",
        "        g1 = torch.tan(f1 + f2 + 100)\n",
        "        g2 = f1 * f2\n",
        "\n",
        "        # Backpropagate gradients from g1 to x\n",
        "        g1.backward(retain_graph=True)\n",
        "        dg1dx1, dg1dx2 = x.grad.tolist()\n",
        "        x.grad.zero_()\n",
        "\n",
        "        # Backpropagate gradients from g2 to x\n",
        "        g2.backward(retain_graph=True)\n",
        "        dg2dx1, dg2dx2 = x.grad.tolist()\n",
        "        x.grad.zero_()\n",
        "\n",
        "        # Compute dydx1 and dydx2\n",
        "        dydx1 = dpdg1 * dg1dx1 + dpdg2 * dg2dx1\n",
        "        dydx2 = dpdg1 * dg1dx2 + dpdg2 * dg2dx2\n",
        "\n",
        "        # Save the result\n",
        "        writer.writerow([point['id'], dydx1, dydx2])"
      ],
      "execution_count": null,
      "outputs": []
    },
    {
      "cell_type": "markdown",
      "metadata": {
        "id": "icGZa7rGCbtL"
      },
      "source": [
        "Выполним проверку результатов, аналитически вычислив производные:\n",
        "\n",
        "$$\n",
        "\\begin{align*}\n",
        "&\\frac{\\partial f_1}{\\partial x_1} = 1,\\\\\n",
        "&\\frac{\\partial f_1}{\\partial x_2} = 1,\\\\\n",
        "&\\frac{\\partial f_2}{\\partial x_1} = x_2,\\\\\n",
        "&\\frac{\\partial f_2}{\\partial x_2} = x_1,\\\\\n",
        "&\\frac{\\partial g_1}{\\partial x_1} = \\frac{\\partial g_1}{\\partial f_1}\\frac{\\partial f_1}{\\partial x_1} + \\frac{\\partial g_1}{\\partial f_2}\\frac{\\partial f_2}{\\partial x_1} = \\frac{1 + x_2}{\\cos^2(x_1 + x_1x_2 + x_2 + 100)},\\\\\n",
        "&\\frac{\\partial g_1}{\\partial x_2} = \\frac{\\partial g_1}{\\partial f_1}\\frac{\\partial f_1}{\\partial x_2} + \\frac{\\partial g_1}{\\partial f_2}\\frac{\\partial f_2}{\\partial x_2} = \\frac{1 + x_1}{\\cos^2(x_1 + x_1x_2 + x_2 + 100)},\\\\\n",
        "&\\frac{\\partial g_2}{\\partial x_1} = \\frac{\\partial g_2}{\\partial f_1}\\frac{\\partial f_1}{\\partial x_1} + \\frac{\\partial g_2}{\\partial f_2}\\frac{\\partial f_2}{\\partial x_1} = x_2^2 + 2x_1x_2,\\\\\n",
        "&\\frac{\\partial g_2}{\\partial x_2} = \\frac{\\partial g_2}{\\partial f_1}\\frac{\\partial f_1}{\\partial x_2} + \\frac{\\partial g_2}{\\partial f_2}\\frac{\\partial f_2}{\\partial x_2} = x_1^2 + 2x_1x_2,\\\\\n",
        "&\\frac{\\partial y}{\\partial x_1} = \\frac{\\partial y}{\\partial g_1}\\frac{1 + x_2}{\\cos^2(x_1 + x_1x_2 + x_2 + 100)} + \\frac{\\partial y}{\\partial g_2}(x_2^2 + 2x_1x_2),\\\\\n",
        "&\\frac{\\partial y}{\\partial x_2} = \\frac{\\partial y}{\\partial g_1}\\frac{1 + x_1}{\\cos^2(x_1 + x_1x_2 + x_2 + 100)} + \\frac{\\partial y}{\\partial g_2}(x_1^2 + 2x_1x_2)\n",
        "\\end{align*}\n",
        "$$"
      ]
    },
    {
      "cell_type": "markdown",
      "metadata": {
        "id": "Ma5Uot53Hv6U"
      },
      "source": [
        "Рассчитаем и сохраним результат для каждой точки в файл `check_results.csv`."
      ]
    },
    {
      "cell_type": "code",
      "metadata": {
        "id": "8eVznTO7IWtL"
      },
      "source": [
        "with open('check_results.csv', 'a') as check_results:\n",
        "    # Prepare to write the results\n",
        "    writer = csv.writer(check_results)\n",
        "\n",
        "    # Iterate over all datapoints\n",
        "    for point in data:\n",
        "        # Read x1 and x2\n",
        "        x1 = point['x1']\n",
        "        x2 = point['x2']\n",
        "\n",
        "        # Read dpdg1 and dpdg2\n",
        "        dpdg1 = point['dpdg1']\n",
        "        dpdg2 = point['dpdg2']\n",
        "\n",
        "        # Compute dg1dx1 and dg1dx2\n",
        "        dg1dx1 = (1 + x2) / (math.cos(x1 + x1 * x2 + x2 + 100) ** 2)\n",
        "        dg1dx2 = (1 + x1) / (math.cos(x1 + x1 * x2 + x2 + 100) ** 2)\n",
        "\n",
        "        # Compute dg2dx1 and dg2dx2\n",
        "        dg2dx1 = (x2 ** 2 + 2 * x1 * x2)\n",
        "        dg2dx2 = (x1 ** 2 + 2 * x1 * x2)\n",
        "\n",
        "        # Compute dydx1 and dydx2\n",
        "        dydx1 = dpdg1 * dg1dx1 + dpdg2 * dg2dx1\n",
        "        dydx2 = dpdg1 * dg1dx2 + dpdg2 * dg2dx2\n",
        "\n",
        "        # Save the result\n",
        "        writer.writerow([point['id'], dydx1, dydx2])"
      ],
      "execution_count": null,
      "outputs": []
    },
    {
      "cell_type": "markdown",
      "metadata": {
        "id": "S2JUlWJvLDmY"
      },
      "source": [
        "Сверим полученные результаты."
      ]
    },
    {
      "cell_type": "code",
      "metadata": {
        "colab": {
          "base_uri": "https://localhost:8080/"
        },
        "id": "CncPRH_rLLlU",
        "outputId": "7a4a02c8-7d7d-4e17-cd17-5655345beef0"
      },
      "source": [
        "with open('results.csv', newline='') as results, open('check_results.csv', newline='') as check_results:\n",
        "    # Prepare to read results\n",
        "    reader = csv.reader(results, quoting=csv.QUOTE_NONNUMERIC)\n",
        "    check_reader = csv.reader(check_results, quoting=csv.QUOTE_NONNUMERIC)\n",
        "\n",
        "    # Compare all rows within 1e-8 tolerance\n",
        "    for row, check_row in zip(reader, check_reader):\n",
        "        if not math.isclose(row[1], check_row[1], rel_tol=1e-8):\n",
        "            print(f'Row {row[0]} dy/dx1 do not match: {row[1]} != {check_row[1]}')\n",
        "        if not math.isclose(row[2], check_row[2], rel_tol=1e-8):\n",
        "            print(f'Row {row[0]} dy/dx2 do not match: {row[2]} != {check_row[2]}')\n",
        "    print('Finished checking results!')"
      ],
      "execution_count": null,
      "outputs": [
        {
          "output_type": "stream",
          "text": [
            "Finished checking results!\n"
          ],
          "name": "stdout"
        }
      ]
    }
  ]
}